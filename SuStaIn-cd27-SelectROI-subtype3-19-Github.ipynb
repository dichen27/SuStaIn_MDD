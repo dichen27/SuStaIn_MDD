{
 "cells": [
  {
   "cell_type": "markdown",
   "metadata": {},
   "source": [
    "# SuStaIn tutorial using simulated data\n",
    "\n",
    "Written by Alex Young in April 2020, updated in April 2021. Please email alexandra.young@kcl.ac.uk with any questions.\n",
    "\n",
    "This tutorial demonstrates how to run Subtype and Stage Inference (SuStaIn) using simulated data. SuStaIn is an unsupervised learning algorithm that identifies subgroups of individuals with distinct biomarker progression patterns. See [Young et al. Nature Communications 2018](https://doi.org/10.1038/s41467-018-05892-0) for more details.\n",
    "\n",
    "SuStaIn is a generalisable algorithm in which you can choose how to model the progression of biomarkers within a subtype. In this tutorial I use the linear z-score model I used in [Young et al. 2018](https://doi.org/10.1038/s41467-018-05892-0), but it is possible to use other models of biomarker evolution, such as the event-based model.\n",
    "\n",
    "For a demonstration of the 'event-based'/mixture modelling version of SuStaIn (i.e. MixtureSustain), see simrun.py, available in the /sim subdirectory of the pySuStaIn package."
   ]
  },
  {
   "cell_type": "markdown",
   "metadata": {},
   "source": [
    "## Installing SuStaIn and setting it up to run in a notebook\n",
    "\n",
    "To get SuStaIn up and running first you need to install the package. I'm using Anaconda and had some conflicts with existing packagaes so I had to create a new environment and set it up to be accessible from a jupyter notebook. For me the whole set up process looked like this...\n",
    "\n",
    "Step 1: Create a new environment \"sustain_env\" in anaconda that uses python 3.7 and activate the environment ready to install pySuStaIn.\n",
    "```console\n",
    "conda create --name sustain_env python=3.7\n",
    "conda activate sustain_env\n",
    "```\n",
    "\n",
    "Step 2: Install pySuStaIn within the environment. The first line installs the kde-ebm (not needed for this tutorial), and the second line installs pySutaIn. Using the -e option enables you to edit the code (most users won't need to do this so can remove the -e). \n",
    "```console\n",
    "pip install -e ./awkde\n",
    "pip install -e .\n",
    "```\n",
    "\n",
    "Step 3: To get the new environment to run inside a notebook I had to install ipykernel and use that to add the environment as a new kernel.\n",
    "```console\n",
    "conda install ipykernel\n",
    "python3.7 -m ipykernel install --user --name sustain_env\n",
    "```\n",
    "\n",
    "When running the notebook you then need to make sure you're using the new kernel (it should appear as sustain_env in the top right hand corner, or you need to select it using Kernel>Change kernel>sustain_env)."
   ]
  },
  {
   "cell_type": "markdown",
   "metadata": {},
   "source": [
    "## Importing packages"
   ]
  },
  {
   "cell_type": "code",
   "execution_count": 1,
   "metadata": {},
   "outputs": [],
   "source": [
    "# import the python packages needed to generate simulated data for the tutorial\n",
    "import os\n",
    "import shutil\n",
    "import numpy as np\n",
    "import matplotlib.pyplot as plt\n",
    "import pickle\n",
    "from pathlib import Path\n",
    "import sklearn.model_selection\n",
    "import pandas as pd\n",
    "import pylab\n",
    "import sys\n",
    "import pySuStaIn\n",
    "\n",
    "\n",
    "#sys.path.insert(0,'../sim/')\n",
    "#from simfuncs import generate_random_Zscore_sustain_model, generate_data_Zscore_sustain"
   ]
  },
  {
   "cell_type": "markdown",
   "metadata": {},
   "source": [
    "## The linear z-score model\n",
    "\n",
    "The linear z-score model I use in this tutorial describes a subtype progression pattern as the linear evolution of biomarkers between different z-scores. Figure 1 below shows an example of what this model looks like for a single subtype. The model is indexed by a set of discrete stages. Each stage corresponds to a biomarker reaching a new z-score from the set of z-scores for each biomarker, Z_vals. Each biomarker starts with a minimum value of 0 at stage 0 and reaches a maximum of Z_max at the final stage of the progression. The number of stages is determined by the number of biomarkers and z-scores in Z_vals. The SuStaIn algorithm identifies subgroups of individuals and their progression patterns - for the linear z-score model the progression pattern would be the ordering of the different biomarker z-scores in Z_vals - gt_sequence below.\n",
    "\n",
    "You can play around generating different sequences and altering the settings of the linear z-score model using the code below."
   ]
  },
  {
   "cell_type": "markdown",
   "metadata": {},
   "source": [
    "## Important note on the linear z-score model\n",
    "\n",
    "It's natural to think of the progression pattern in Figure 1 as linear in time but this isn't necessarily the case. For example, the time between stages 2 and 3 may be much longer than between stages 8 and 9. This means that the shape of the trajectories may look quite different if indexed by time (although the general order in which the biomarkers progress to different z-scores would remain the same). The linear z-score model simply describes the patient snapshots you would expect to see in a cross-sectional dataset for any particular subtype at a particular stage. The subtypes and stages are considered as hidden variables, which the SuStaIn algorithm identifies directly from the data."
   ]
  },
  {
   "cell_type": "markdown",
   "metadata": {},
   "source": [
    "## The SuStaIn algorithm\n",
    "\n",
    "SuStaIn identifies subtypes with distinct progression patterns from cross-sectional data. The algorithm proceeds hierarchically, first fitting a single subtype to the data, then two, then three, etc., up to a maximum number of subtypes chosen by the user. The fitting of the nth subtype model works but splitting each of the previous n-1 clusters into two and then using this as an initialisation to fit the n subtype model. For each of the n subtype models, SuStaIn uses MCMC sampling to estimate the uncertainty in the subtype progression patterns and the proportion of individuals that belong to each subtype. The optimal number of subtypes is selected by using cross-validation to compute the cross-validation information criterion (CVIC)."
   ]
  },
  {
   "cell_type": "markdown",
   "metadata": {},
   "source": [
    "## Preparing data for SuStaIn\n",
    "\n",
    "The data for SuStaIn needs to be z-scored relative to a control population such that the mean of the control population is 0 and the standard deviation of the control population is 1. To do this simply subtract the mean of the control population from your data and divide by the standard deviation of the control population. Double check that if you apply this transformation to the control population only that the control population has a mean of 0 and a standard deviation of 1. The data further needs to be transformed to increase in z-score with disease progression. If the biomarkers you are using decrease with disease progression you need to multiply the data for those biomarkers by -1.\n",
    "\n",
    "I'd suggest the following workflow for getting your data ready to run SuStaIn on.\n",
    "\n",
    "1. Regress out the effects of covariates. Learn the effects of covariates in a control population and use this model to regress out the effect of covariates for all the subjects. Learning the model in the control population will avoid regressing out disease effects, which you want to keep in your dataset.\n",
    "\n",
    "2. Calculate the mean and standard deviation of each biomarker in your control dataset, mean_control and std_control.\n",
    "\n",
    "3. Z-score your data by taking (data-mean_control)/std_control.\n",
    "\n",
    "4. Identify any biomarkers that decrease with disease progression, these will have mean_data < mean_control. Multiply the data for these biomarkers by -1.\n",
    "\n",
    "Steps 2-4 are illustrated in the section below but will have little effect on the simulated data because it is generated as z-scores already."
   ]
  },
  {
   "cell_type": "markdown",
   "metadata": {},
   "source": [
    "## Choosing the settings\n",
    "The SuStaIn algorithm requires the following inputs.\n",
    "\n",
    "### data\n",
    "The data you want to run SuStaIn on, of size M subjects by N biomarkers. This needs to be z-scored in the way described in the previous section.\n",
    "\n",
    "### Z_vals\n",
    "This is the set of z-scores you want to include for each biomarker. The more z-scores you use the longer the SuStaIn algorithm will take to run. Z_vals has size N biomarkers by Z z-scores. If you have more z-scores for some biomarkers than others you can simply leave zeros at the end of biomarker rows with fewer z-scores.\n",
    "\n",
    "### Z_max\n",
    "The maximum z-score reached at the end of the progression, with size N biomarkers by 1. I'd suggest choosing a value around the 95th percentile of your data but you can experiment with different values. I typically choose an integer for interpretability but you don't have to.\n",
    "\n",
    "### SuStaInLabels\n",
    "The names of the biomarkers you are using, for plotting purposes.\n",
    "\n",
    "### N_startpoints\n",
    "The number of startpoints to use when fitting the subtypes hierarchichally. I'd suggest using 25.\n",
    "\n",
    "### N_S_max\n",
    "The maximum number of subtypes to fit. I'd suggest starting with a lower number - maybe three - and then increasing that if you're getting a significantly better fit with the maximum number of subtypes. You can judge this roughly from the MCMC plot. To properly evaluate the optimal number of subtypes you need to run cross-validation.\n",
    "\n",
    "### N_iterations_MCMC\n",
    "The number of iterations for the MCMC sampling of the uncertainty in the progression pattern. I'd recommend using 1x10^5 or 1x10^6.\n",
    "\n",
    "### output_folder\n",
    "Choose an output folder for the results.\n",
    "\n",
    "### dataset_name\n",
    "Name the results files outputted by SuStaIn.\n",
    "\n",
    "### use_parellel_startpoints\n",
    "Boolean for whether or not to parallelize the startpoints.\n",
    "\n",
    "### Additional note\n",
    "There are approximate and exact versions of the computation of the data likelihood for the linear z-score model. Currently the python version only supports the approximate version. If you want to use the exact version please see the Matlab version at https://github.com/ucl-pond/SuStaInMatlab."
   ]
  },
  {
   "cell_type": "code",
   "execution_count": 2,
   "metadata": {},
   "outputs": [
    {
     "name": "stdout",
     "output_type": "stream",
     "text": [
      "           ACC_sub      ACC_pre      ACC_sup   Precentral_L   Frontal_Sup_L  \\\n",
      "count  1151.000000  1151.000000  1151.000000    1151.000000     1151.000000   \n",
      "mean      0.183623     0.167877     0.247111       0.158971        0.216146   \n",
      "std       0.939881     0.947988     0.905208       0.943900        0.921957   \n",
      "min      -3.390436    -3.042414    -3.390512      -3.149481       -2.878493   \n",
      "25%      -0.391786    -0.429412    -0.370812      -0.471296       -0.387439   \n",
      "50%       0.237456     0.142559     0.259368       0.147988        0.209340   \n",
      "75%       0.827751     0.785702     0.885035       0.751480        0.813859   \n",
      "max       3.342462     4.284813     2.649311       3.665985        3.908671   \n",
      "\n",
      "        Frontal_Mid_L     Rectus_L     Insula_L   Cingulate_Mid_L  \\\n",
      "count     1151.000000  1151.000000  1151.000000       1151.000000   \n",
      "mean         0.165303     0.165182     0.235384          0.178207   \n",
      "std          0.924773     0.937502     0.962667          0.932606   \n",
      "min         -2.867017    -2.763398    -2.943310         -3.560751   \n",
      "25%         -0.451804    -0.424472    -0.399998         -0.427597   \n",
      "50%          0.191716     0.165545     0.221595          0.143561   \n",
      "75%          0.773087     0.746518     0.869910          0.792522   \n",
      "max          3.193273     3.957490     3.495382          3.806387   \n",
      "\n",
      "        Occipital_Mid_L   Fusiform_L   Temporal_Sup_L   Temporal_Pole_Sup_L  \\\n",
      "count       1151.000000  1151.000000      1151.000000           1151.000000   \n",
      "mean           0.160733     0.226250         0.195859              0.162009   \n",
      "std            0.948466     1.029008         0.971171              0.968999   \n",
      "min           -3.397992    -2.745851        -2.678685             -2.951136   \n",
      "25%           -0.439905    -0.454102        -0.408452             -0.417469   \n",
      "50%            0.160495     0.186724         0.163768              0.173662   \n",
      "75%            0.743094     0.902538         0.808635              0.764371   \n",
      "max            4.028877     4.523713         3.515058              3.751558   \n",
      "\n",
      "        Temporal_Mid_L     OFCmed_L     OFCant_L    OFCpost_L     OFClat_L  \\\n",
      "count      1151.000000  1151.000000  1151.000000  1151.000000  1151.000000   \n",
      "mean          0.209215     0.062680     0.115727     0.073447     0.059293   \n",
      "std           0.995741     0.926971     0.924921     0.969534     0.966866   \n",
      "min          -3.285687    -2.913215    -2.934589    -2.956758    -3.416599   \n",
      "25%          -0.445342    -0.519703    -0.486163    -0.521763    -0.593656   \n",
      "50%           0.220029     0.063865     0.145608     0.063802     0.080001   \n",
      "75%           0.843883     0.649734     0.687452     0.720033     0.712096   \n",
      "max           3.934705     4.264995     3.403860     4.860376     3.793058   \n",
      "\n",
      "        Hippocampus  \n",
      "count   1151.000000  \n",
      "mean       0.144049  \n",
      "std        0.943683  \n",
      "min       -3.322805  \n",
      "25%       -0.482755  \n",
      "50%        0.118521  \n",
      "75%        0.753060  \n",
      "max        3.365046  \n"
     ]
    }
   ],
   "source": [
    "# Input the settings for z-score SuStaIn\n",
    "# To make the tutorial run faster I've set \n",
    "# N_startpoints = 10 and N_iterations_MCMC = int(1e4)\n",
    "# I recommend using N_startpoints = 25 and \n",
    "# N_iterations_MCMC = int(1e5) or int(1e6) in general though\n",
    "\n",
    "path = r'H:\\pySuStaIn-master\\data\\ROI_SelectROI_19_Github.xls'  # 参数初始化\n",
    "data = pd.read_excel(path)  # 读取数据\n",
    "print(data.describe())\n",
    "data = data.values"
   ]
  },
  {
   "cell_type": "code",
   "execution_count": 3,
   "metadata": {
    "scrolled": true
   },
   "outputs": [],
   "source": [
    "# Input the settings for z-score SuStaIn\n",
    "M       = 1151       # number of subjects\n",
    "N       = 19         # number of biomarkers\n",
    "N_S_max = 3     # number of subtypes\n",
    "\n",
    "N_startpoints = 25                  # usually N_startpoints = 25\n",
    "N_iterations_MCMC = int(1e5)        # usually N_iterations_MCMC = int(1e5) or int(1e6)\n",
    "\n",
    "output_folder = os.path.join(os.getcwd(), 'folds_2')\n",
    "dataset_name = 'output-19-subtype3-Github'\n",
    "\n",
    "SuStaInLabels           = []\n",
    "for i in range(N):\n",
    "        SuStaInLabels.append( 'Biomarker '+str(i)) # labels of biomarkers for plotting\n",
    "        \n",
    "Z_vals                  = np.array([[1,1.5,2]]*N)     # Z-scores for each biomarker\n",
    "Z_max                   = np.array([5]*N)           # maximum z-score\n",
    "\n",
    "# To demonstrate how to set different biomarkers to have different z-scores,\n",
    "# set biomarker 0 to have z-scores of 1 and 2 only and a maximum of 3\n",
    "# to do this change the corresponding row of Z_vals to read 1 2 0\n",
    "# and change the corresponding row of Z_max to 3\n",
    "# Z_vals[np.array(0),np.array(2)] = 0\n",
    "# Z_max[np.array(0)] = 3\n",
    "\n",
    "# and set biomarker 2 to have a z-score of 1 only and a maximum of 2\n",
    "# to do this change the corresponding row of Z_vals to read 1 0 0 \n",
    "# and change the corresponding row of Z_max to 2 \n",
    "# Z_vals[np.array(2),np.array([1,2])] = 0\n",
    "# Z_max[np.array(2)] = 2\n",
    "\n",
    "use_parallel_startpoints = True  # use_parallel_startpoints    - boolean for whether or not to parallelize the maximum likelihood loop\n",
    "\n",
    "sustain_input = pySuStaIn.ZscoreSustain(data,\n",
    "                              Z_vals,\n",
    "                              Z_max,\n",
    "                              SuStaInLabels,\n",
    "                              N_startpoints,\n",
    "                              N_S_max, \n",
    "                              N_iterations_MCMC, \n",
    "                              output_folder, \n",
    "                              dataset_name, \n",
    "                              use_parallel_startpoints)"
   ]
  },
  {
   "cell_type": "markdown",
   "metadata": {},
   "source": [
    "## Create folder for results if it doesn't exist already"
   ]
  },
  {
   "cell_type": "code",
   "execution_count": 4,
   "metadata": {},
   "outputs": [],
   "source": [
    "if not os.path.isdir(output_folder):\n",
    "    os.mkdir(output_folder)"
   ]
  },
  {
   "cell_type": "markdown",
   "metadata": {},
   "source": [
    "## Running the SuStaIn algorithm\n",
    "\n",
    "We're finally ready to run the SuStaIn algorithm! The main outputs are samples_sequence and samples_f. samples_sequence gives MCMC samples of the ordering of the biomarker z-scores for each n subtype model. samples_f gives MCMC samples of the proportion of individuals that belong to each subtype for each n subtype model. These can be found in the outputted files."
   ]
  },
  {
   "cell_type": "code",
   "execution_count": 5,
   "metadata": {
    "scrolled": false
   },
   "outputs": [
    {
     "name": "stdout",
     "output_type": "stream",
     "text": [
      "Found pickle file: H:\\pySuStaIn-master\\notebooks\\folds_2\\pickle_files\\output220724-19-subtype3-repeat_subtype0.pickle. Using pickled variables for 0 subtype.\n",
      "Found pickle file: H:\\pySuStaIn-master\\notebooks\\folds_2\\pickle_files\\output220724-19-subtype3-repeat_subtype1.pickle. Using pickled variables for 1 subtype.\n",
      "Found pickle file: H:\\pySuStaIn-master\\notebooks\\folds_2\\pickle_files\\output220724-19-subtype3-repeat_subtype2.pickle. Using pickled variables for 2 subtype.\n"
     ]
    }
   ],
   "source": [
    "# runs the sustain algorithm with the inputs set in sustain_input above\n",
    "samples_sequence,   \\\n",
    "samples_f,          \\\n",
    "ml_subtype,         \\\n",
    "prob_ml_subtype,    \\\n",
    "ml_stage,           \\\n",
    "prob_ml_stage,      \\\n",
    "prob_subtype_stage  = sustain_input.run_sustain_algorithm()"
   ]
  },
  {
   "cell_type": "code",
   "execution_count": 6,
   "metadata": {},
   "outputs": [
    {
     "data": {
      "image/png": "[encoded data removed]",
      "text/plain": [
       "<Figure size 432x288 with 1 Axes>"
      ]
     },
     "metadata": {
      "needs_background": "light"
     },
     "output_type": "display_data"
    },
    {
     "data": {
      "image/png": "[encoded data removed]",
      "text/plain": [
       "<Figure size 432x288 with 1 Axes>"
      ]
     },
     "metadata": {
      "needs_background": "light"
     },
     "output_type": "display_data"
    }
   ],
   "source": [
    "# for each subtype model\n",
    "import pandas\n",
    "# for each subtype model\n",
    "for s in range(N_S_max):\n",
    "    # load pickle file (SuStaIn output) and get the sample log likelihood values\n",
    "    pickle_filename_s = output_folder + '/pickle_files/' + dataset_name + '_subtype' + str(s) + '.pickle'\n",
    "    pk = pandas.read_pickle(pickle_filename_s)\n",
    "    samples_likelihood = pk[\"samples_likelihood\"]\n",
    "    \n",
    "    # plot the values as a line plot\n",
    "    plt.figure(0)\n",
    "    plt.plot(range(N_iterations_MCMC), samples_likelihood, label=\"subtype\" + str(s))\n",
    "    plt.legend(loc='upper right')\n",
    "    plt.xlabel('MCMC samples')\n",
    "    plt.ylabel('Log likelihood')\n",
    "    plt.title('MCMC trace')\n",
    "    plt.savefig(os.path.join(output_folder, 'MCMCtrace-subtype3-Github.png'),dpi=600)\n",
    "    \n",
    "    # plot the values as a histogramp plot\n",
    "    plt.figure(1)\n",
    "    plt.hist(samples_likelihood, label=\"subtype\" + str(s))\n",
    "    plt.legend(loc='upper right')\n",
    "    plt.xlabel('Log likelihood')  \n",
    "    plt.ylabel('Number of samples')  \n",
    "    plt.title('Histograms of model likelihood')\n",
    "    plt.savefig(os.path.join(output_folder, 'Histograms of model likelihood-subtype3-Github.png'),dpi=600)\n",
    "\n",
    "# Just added this to demonstrate what happens if you re-run the SuStaIn algorithm \n",
    "# with the same dataset name and folder as previously\n",
    "# The code recognises the files are there already rather than re-running SuStaIn\n",
    "# This is useful if you want to increase the number of subtypes without \n",
    "# starting right from the beginning again\n",
    "# samples_sequence,   \\\n",
    "# samples_f,          \\\n",
    "# ml_subtype,         \\\n",
    "# prob_ml_subtype,    \\\n",
    "# ml_stage,           \\\n",
    "# prob_ml_stage,      \\\n",
    "# prob_subtype_stage  = sustain_input.run_sustain_algorithm()\n",
    "\n"
   ]
  },
  {
   "cell_type": "markdown",
   "metadata": {},
   "source": [
    "## Assessing the output\n",
    "\n",
    "Now we've run the SuStaIn algorithm, we need to assess the output and decide whether to change any of the settings. \n",
    "\n",
    "### MCMC trace\n",
    "\n",
    "The first thing to look at is the MCMC trace (Figure 5 below). It should be periodic, i.e. with a structure that regularly repeats itself, rather than having long flat sections where it gets stuck at a particular likelihood. If this isn't the case SuStaIn is not working well on your data. There's some troubleshooting you can try:\n",
    "- Check that your data is z-scored correctly\n",
    "- Check that the choice of z-scores (Z_vals and Z_max) are sensible\n",
    "- Check that your data looks normally distributed in your control population\n",
    "-- if not, try an alternative version of SuStaIn that might be more suitable for your data, e.g. SuStaIn using a KDE event-based model for non normally distributed data \n",
    "- Increase the number of startpoints (N_startpoints)\n",
    "- Increase the number of MCMC samples (N_iterations_MCMC)\n",
    "\n",
    "### Histograms of model likelihood\n",
    "The next thing to look at are histograms of the model likelihood (Figure 6 below). Whilst the number of subtypes should be determined through cross-validation, these histograms can give a reasonable indication of the number of subtypes in your dataset, which will enable you to decide whether to fit more subtypes and what to set as the maximum number of subtypes for the cross-validation. When there's a large overlap between the histograms of the model likelihood as you increase the subtypes it means that the likelihood isn't improving very much when you increase the number of subtypes, which means you've probably gone past the optimal number of subtypes. You want to fit enough subtypes so that at least one model is too complex (has too many subtypes) for your data so that you can be sure you've chosen the optimal number of subtypes. If you're not seeing overlapping histograms you need to increase N_S_max and run SuStaIn again from your previous setting of N_S_max.\n",
    "\n",
    "### Positional variance diagrams\n",
    "If the end stages of the positional variance diagrams look very blurry with no clear predominant progression pattern, it usually means that there aren't many individuals that fit well with the end stages of the progression. If this is the case you might want to consider removing some biomarker z-scores and re-running SuStaIn."
   ]
  },
  {
   "cell_type": "markdown",
   "metadata": {},
   "source": [
    "## Subtyping and staging\n",
    "\n",
    "Once you've used the CVIC to choose the optimal number of subtypes you can use the SuStaIn output from that subtypes model to subtype and stage individuals in your dataset. This will already have been output by the SuStaIn algorithm, you can extract the outputs using the code below. The outputs are\n",
    "\n",
    "### ml_subtype and prob_ml_subtype\n",
    "The maximum likelihood subtype and the probability of that subtype for each individual.\n",
    "\n",
    "### ml_stage and prob_ml_stage\n",
    "The maximum likelihood stage and the probability of that stage for each individual.\n",
    "\n",
    "### prob_subtype, prob_stage and prob_subtype_stage\n",
    "The probability each individual belongs to each subtype, to each stage, and to each subtype and stage combination."
   ]
  },
  {
   "cell_type": "code",
   "execution_count": 7,
   "metadata": {},
   "outputs": [],
   "source": [
    "s = N_S_max-1\n",
    "pickle_filename_s           = output_folder + '/pickle_files/' + dataset_name + '_subtype' + str(s) + '.pickle'\n",
    "pickle_filepath             = Path(pickle_filename_s)\n",
    "pickle_file                 = open(pickle_filename_s, 'rb')\n",
    "loaded_variables            = pickle.load(pickle_file)\n",
    "ml_subtype                  = loaded_variables[\"ml_subtype\"]\n",
    "prob_ml_subtype             = loaded_variables[\"prob_ml_subtype\"]\n",
    "ml_stage                    = loaded_variables[\"ml_stage\"]\n",
    "prob_ml_stage               = loaded_variables[\"prob_ml_stage\"]\n",
    "prob_subtype                = loaded_variables[\"prob_subtype\"]\n",
    "prob_stage                  = loaded_variables[\"prob_stage\"]\n",
    "prob_subtype_stage          = loaded_variables[\"prob_subtype_stage\"]\n",
    "ml_sequence_EM              = loaded_variables[\"ml_sequence_EM\"]\n",
    "pickle_file.close()    \n",
    "\n",
    "\n",
    "\n",
    "#************* run SuStaIn to infer subtype sequences and subjects' subtypes/stages estimates\n",
    "#samples_sequence,   \\\n",
    "#samples_f,          \\\n",
    "#ml_subtype,         \\\n",
    "#prob_ml_subtype,    \\\n",
    "#ml_stage,           \\\n",
    "#prob_ml_stage,      \\\n",
    "#prob_subtype_stage      = sustain_input.run_sustain_algorithm(plot=True)\n",
    "\n",
    "#save the most likely subtype, the associated subtype probability,\n",
    "# the most likely stage and the associated stage probability for each subject\n",
    "inputdata_subj_ids   = list(np.arange(1, M+1).astype('str'))\n",
    "\n",
    "df                      = pd.DataFrame()\n",
    "df['subj_id']           = inputdata_subj_ids\n",
    "df['ml_subtype']        = ml_subtype\n",
    "df['prob_ml_subtype']   = prob_ml_subtype\n",
    "df['ml_stage']          = ml_stage\n",
    "df['prob_ml_stage']     = prob_ml_stage\n",
    "df['prob_subtype0']     = prob_subtype[:,0]\n",
    "df['prob_subtype1']     = prob_subtype[:,1]\n",
    "df['prob_subtype2']     = prob_subtype[:,2]\n",
    "\n",
    "df.to_csv(os.path.join(output_folder, 'Subject_subtype_stage_estimates-19-subtype3-Github.csv'), index=False)\n",
    "\n",
    "df2                      = pd.DataFrame(ml_sequence_EM)\n",
    "df2.to_csv(os.path.join(output_folder, 'ml_sequence_EM-19-subtype3-Github.csv'), index=False) \n",
    "\n",
    "FONT_SIZE               = 15\n",
    "\n",
    "\n",
    "# You can also subtype and stage new data using\n",
    "# N_samples                       = 1000\n",
    "# ml_subtype,                  \\\n",
    "# prob_ml_subtype,             \\\n",
    "# ml_stage,                    \\\n",
    "# prob_ml_stage,               \\\n",
    "# prob_subtype,                \\\n",
    "# prob_stage,                  \\\n",
    "# prob_subtype_stage          = sustain_input.subtype_and_stage_individuals_newData(new_data,\n",
    "#                                                                                   samples_sequence,\n",
    "#                                                                                   samples_f,\n",
    "#                                                                                   N_samples)？、、"
   ]
  },
  {
   "cell_type": "markdown",
   "metadata": {},
   "source": [
    "\n",
    "## Comparison with ground truth\n",
    "\n",
    "Figure"
   ]
  },
  {
   "cell_type": "code",
   "execution_count": null,
   "metadata": {
    "pycharm": {
     "name": "#%%\n"
    },
    "scrolled": true
   },
   "outputs": [],
   "source": []
  },
  {
   "cell_type": "code",
   "execution_count": null,
   "metadata": {
    "pycharm": {
     "name": "#%%"
    }
   },
   "outputs": [],
   "source": []
  }
 ],
 "metadata": {
  "kernelspec": {
   "display_name": "Python 3 (ipykernel)",
   "language": "python",
   "name": "python3"
  },
  "language_info": {
   "codemirror_mode": {
    "name": "ipython",
    "version": 3
   },
   "file_extension": ".py",
   "mimetype": "text/x-python",
   "name": "python",
   "nbconvert_exporter": "python",
   "pygments_lexer": "ipython3",
   "version": "3.9.6"
  }
 },
 "nbformat": 4,
 "nbformat_minor": 2
}
